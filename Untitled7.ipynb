{
  "nbformat": 4,
  "nbformat_minor": 0,
  "metadata": {
    "colab": {
      "provenance": [],
      "authorship_tag": "ABX9TyMizEKHHbJLe6bTZHvdv5iv",
      "include_colab_link": true
    },
    "kernelspec": {
      "name": "python3",
      "display_name": "Python 3"
    },
    "language_info": {
      "name": "python"
    }
  },
  "cells": [
    {
      "cell_type": "markdown",
      "metadata": {
        "id": "view-in-github",
        "colab_type": "text"
      },
      "source": [
        "<a href=\"https://colab.research.google.com/github/bhavyakukreja01/Task-01/blob/main/Untitled7.ipynb\" target=\"_parent\"><img src=\"https://colab.research.google.com/assets/colab-badge.svg\" alt=\"Open In Colab\"/></a>"
      ]
    },
    {
      "cell_type": "code",
      "execution_count": 1,
      "metadata": {
        "colab": {
          "base_uri": "https://localhost:8080/"
        },
        "id": "A-Gl9WsZtHmh",
        "outputId": "279c9051-2068-44c4-a020-901a894c3ebc"
      },
      "outputs": [
        {
          "output_type": "stream",
          "name": "stdout",
          "text": [
            "🔹 Linear SVM Results\n",
            "Accuracy: 0.9736842105263158\n",
            "Confusion Matrix:\n",
            " [[41  1]\n",
            " [ 2 70]]\n",
            "Classification Report:\n",
            "               precision    recall  f1-score   support\n",
            "\n",
            "           0       0.95      0.98      0.96        42\n",
            "           1       0.99      0.97      0.98        72\n",
            "\n",
            "    accuracy                           0.97       114\n",
            "   macro avg       0.97      0.97      0.97       114\n",
            "weighted avg       0.97      0.97      0.97       114\n",
            "\n",
            "\n",
            "🔹 RBF (Non-linear) SVM Results\n",
            "Accuracy: 0.9824561403508771\n",
            "Confusion Matrix:\n",
            " [[41  1]\n",
            " [ 1 71]]\n",
            "Classification Report:\n",
            "               precision    recall  f1-score   support\n",
            "\n",
            "           0       0.98      0.98      0.98        42\n",
            "           1       0.99      0.99      0.99        72\n",
            "\n",
            "    accuracy                           0.98       114\n",
            "   macro avg       0.98      0.98      0.98       114\n",
            "weighted avg       0.98      0.98      0.98       114\n",
            "\n",
            "\n",
            "Hyperparameter Tuning Results (RBF SVM):\n",
            "C=0.1, gamma=scale → Accuracy=0.947\n",
            "C=0.1, gamma=0.01 → Accuracy=0.956\n",
            "C=0.1, gamma=0.1 → Accuracy=0.947\n",
            "C=0.1, gamma=1 → Accuracy=0.632\n",
            "C=1, gamma=scale → Accuracy=0.982\n",
            "C=1, gamma=0.01 → Accuracy=0.982\n",
            "C=1, gamma=0.1 → Accuracy=0.956\n",
            "C=1, gamma=1 → Accuracy=0.632\n",
            "C=10, gamma=scale → Accuracy=0.974\n",
            "C=10, gamma=0.01 → Accuracy=0.982\n",
            "C=10, gamma=0.1 → Accuracy=0.947\n",
            "C=10, gamma=1 → Accuracy=0.632\n",
            "C=100, gamma=scale → Accuracy=0.947\n",
            "C=100, gamma=0.01 → Accuracy=0.965\n",
            "C=100, gamma=0.1 → Accuracy=0.939\n",
            "C=100, gamma=1 → Accuracy=0.632\n"
          ]
        }
      ],
      "source": [
        "# Step 1: Import Libraries\n",
        "import numpy as np\n",
        "import pandas as pd\n",
        "import matplotlib.pyplot as plt\n",
        "from sklearn.datasets import load_breast_cancer\n",
        "from sklearn.model_selection import train_test_split\n",
        "from sklearn.preprocessing import StandardScaler\n",
        "from sklearn.svm import SVC\n",
        "from sklearn.metrics import accuracy_score, confusion_matrix, classification_report\n",
        "\n",
        "# Step 2: Load Dataset\n",
        "data = load_breast_cancer()\n",
        "X = pd.DataFrame(data.data, columns=data.feature_names)\n",
        "y = pd.Series(data.target)\n",
        "\n",
        "# Step 3: Train/Test Split\n",
        "X_train, X_test, y_train, y_test = train_test_split(\n",
        "    X, y, test_size=0.2, random_state=42, stratify=y\n",
        ")\n",
        "\n",
        "# Step 4: Feature Scaling\n",
        "scaler = StandardScaler()\n",
        "X_train = scaler.fit_transform(X_train)\n",
        "X_test = scaler.transform(X_test)\n",
        "\n",
        "# Step 5a: Linear SVM\n",
        "svm_linear = SVC(kernel='linear', random_state=42)\n",
        "svm_linear.fit(X_train, y_train)\n",
        "\n",
        "y_pred_linear = svm_linear.predict(X_test)\n",
        "print(\"🔹 Linear SVM Results\")\n",
        "print(\"Accuracy:\", accuracy_score(y_test, y_pred_linear))\n",
        "print(\"Confusion Matrix:\\n\", confusion_matrix(y_test, y_pred_linear))\n",
        "print(\"Classification Report:\\n\", classification_report(y_test, y_pred_linear))\n",
        "\n",
        "# Step 5b: Non-linear (RBF Kernel) SVM\n",
        "svm_rbf = SVC(kernel='rbf', C=1.0, gamma='scale', random_state=42)\n",
        "svm_rbf.fit(X_train, y_train)\n",
        "\n",
        "y_pred_rbf = svm_rbf.predict(X_test)\n",
        "print(\"\\n🔹 RBF (Non-linear) SVM Results\")\n",
        "print(\"Accuracy:\", accuracy_score(y_test, y_pred_rbf))\n",
        "print(\"Confusion Matrix:\\n\", confusion_matrix(y_test, y_pred_rbf))\n",
        "print(\"Classification Report:\\n\", classification_report(y_test, y_pred_rbf))\n",
        "\n",
        "# Step 6: Hyperparameter Tuning (C, gamma)\n",
        "C_values = [0.1, 1, 10, 100]\n",
        "gamma_values = ['scale', 0.01, 0.1, 1]\n",
        "\n",
        "results = {}\n",
        "for C in C_values:\n",
        "    for gamma in gamma_values:\n",
        "        model = SVC(kernel='rbf', C=C, gamma=gamma, random_state=42)\n",
        "        model.fit(X_train, y_train)\n",
        "        acc = accuracy_score(y_test, model.predict(X_test))\n",
        "        results[(C, gamma)] = acc\n",
        "\n",
        "print(\"\\nHyperparameter Tuning Results (RBF SVM):\")\n",
        "for k, v in results.items():\n",
        "    print(f\"C={k[0]}, gamma={k[1]} → Accuracy={v:.3f}\")\n"
      ]
    }
  ]
}